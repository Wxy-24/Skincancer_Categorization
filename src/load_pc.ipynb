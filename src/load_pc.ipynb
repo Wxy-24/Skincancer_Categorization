{
 "cells": [
  {
   "cell_type": "code",
   "execution_count": 2,
   "metadata": {},
   "outputs": [],
   "source": [
    "import glob\n",
    "import cv2\n",
    "import numpy as np\n",
    "import random\n",
    "import pandas as pd"
   ]
  },
  {
   "cell_type": "code",
   "execution_count": 3,
   "metadata": {},
   "outputs": [],
   "source": [
    "def load_pc(data_path):\n",
    "    path_list = glob.glob('Desktop/Python/Miniproject/RawData/'+data_path+'/*')\n",
    "    file_list = [None for i in range(len(path_list))]\n",
    "    \n",
    "    for i in range(len(path_list)):\n",
    "        file_list[i] = cv2.imread(path_list[i])\n",
    "        file_list[i] = cv2.cvtColor(file_list[i], cv2.COLOR_BGR2RGB)\n",
    "        file_list[i] = cv2.resize(file_list[i], (255,255))\n",
    "    \n",
    "    file_np = np.array(file_list)\n",
    "    \n",
    "    indices = np.arange(len(path_list))\n",
    "    np.random.shuffle(indices)\n",
    "    file_list = file_np[indices]\n",
    "    \n",
    "    return file_list"
   ]
  }
 ],
 "metadata": {
  "kernelspec": {
   "display_name": "Python 3",
   "language": "python",
   "name": "python3"
  },
  "language_info": {
   "codemirror_mode": {
    "name": "ipython",
    "version": 3
   },
   "file_extension": ".py",
   "mimetype": "text/x-python",
   "name": "python",
   "nbconvert_exporter": "python",
   "pygments_lexer": "ipython3",
   "version": "3.7.5"
  }
 },
 "nbformat": 4,
 "nbformat_minor": 2
}
